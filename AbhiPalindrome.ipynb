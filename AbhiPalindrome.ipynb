{
 "cells": [
  {
   "cell_type": "code",
   "execution_count": 30,
   "metadata": {},
   "outputs": [],
   "source": [
    "# Funtion to reverse a given String\n",
    "def reverseString(inputString):\n",
    "    lengthString = len(inputString)\n",
    "    #reversedString = inputString\n",
    "    reversedString = [None] * lengthString\n",
    "    #for i, j in zip(range(x), range(y)):\n",
    "    ## convert both strings to Lists for mutation\n",
    "    inputString = list(inputString)\n",
    "    reversedString = list(reversedString)\n",
    "    for i,j in zip(range(lengthString-1,-1,-1),range(0,lengthString+2,1)):\n",
    "        #assign the individual elements in reverse\n",
    "        reversedString[j] = inputString[i]\n",
    "    #convert the list Object back to a String to be returned\n",
    "    reversedString = ''.join(reversedString)\n",
    "    \n",
    "    return reversedString\n",
    "        "
   ]
  },
  {
   "cell_type": "code",
   "execution_count": 31,
   "metadata": {},
   "outputs": [],
   "source": [
    "# function which returns a BOOL(true or false) by comparing the given string and its reversed form\n",
    "def AbhiPalindrome(testString):\n",
    "    # convert the strings to uppercase for equality comparison\n",
    "    if(testString.upper() == reverseString(testString).upper()):\n",
    "        return True\n",
    "    else:\n",
    "        return False\n",
    "\n"
   ]
  },
  {
   "cell_type": "code",
   "execution_count": 1,
   "metadata": {},
   "outputs": [
    {
     "name": "stdout",
     "output_type": "stream",
     "text": [
      "C:\\R_working\\Palindrome\n"
     ]
    }
   ],
   "source": [
    "# set and print working directory where files are kept\n",
    "import os\n",
    "path = \"C:\\R_working\\Palindrome\"\n",
    "\n",
    "os.chdir(path)\n",
    "print(os.getcwd())"
   ]
  },
  {
   "cell_type": "code",
   "execution_count": 36,
   "metadata": {},
   "outputs": [],
   "source": [
    "import pandas as pd\n",
    "\n",
    "input_file = \"palindromes_inp.csv\"\n",
    "\n",
    "Input_df = pd.read_csv(input_file, header = 0, sep = \",\", encoding = \"latin1\", error_bad_lines = 0)"
   ]
  },
  {
   "cell_type": "code",
   "execution_count": 39,
   "metadata": {},
   "outputs": [],
   "source": [
    "words = Input_df.loc[:,\"WORD\"]\n",
    "results = Input_df.loc[:,\"EXPECTED\"]\n",
    "\n",
    "for i in range(0,len(words)):\n",
    "    results[i] = \"OK\" if (AbhiPalindrome(words[i])) else \"KO\""
   ]
  },
  {
   "cell_type": "code",
   "execution_count": 40,
   "metadata": {},
   "outputs": [
    {
     "name": "stdout",
     "output_type": "stream",
     "text": [
      "      WORD OUTCOME EXPECTED\n",
      "0  RACECAR      OK       OK\n",
      "1      EVE      OK       OK\n",
      "2     NOOK      KO       KO\n",
      "3     NOON      OK       OK\n",
      "4    HELLO      KO       KO\n"
     ]
    }
   ],
   "source": [
    "print(Input_df)"
   ]
  },
  {
   "cell_type": "code",
   "execution_count": 47,
   "metadata": {},
   "outputs": [],
   "source": [
    "##text=List of strings to be written to file\n",
    "Input_df.to_csv(input_file, sep=',', encoding='utf-8',index=False)"
   ]
  }
 ],
 "metadata": {
  "kernelspec": {
   "display_name": "Python 3",
   "language": "python",
   "name": "python3"
  },
  "language_info": {
   "codemirror_mode": {
    "name": "ipython",
    "version": 3
   },
   "file_extension": ".py",
   "mimetype": "text/x-python",
   "name": "python",
   "nbconvert_exporter": "python",
   "pygments_lexer": "ipython3",
   "version": "3.6.5"
  }
 },
 "nbformat": 4,
 "nbformat_minor": 2
}
