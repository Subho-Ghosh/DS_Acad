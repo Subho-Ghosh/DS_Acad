{
 "cells": [
  {
   "cell_type": "code",
   "execution_count": 1,
   "metadata": {},
   "outputs": [
    {
     "name": "stdout",
     "output_type": "stream",
     "text": [
      "C:\\R_working\n"
     ]
    }
   ],
   "source": [
    "import os\n",
    "filepath = \"C:\\R_working\"\n",
    "\n",
    "os.chdir(filepath)\n",
    "print(os.getcwd())"
   ]
  },
  {
   "cell_type": "markdown",
   "metadata": {},
   "source": [
    "Import the abalone dataset from uci website(https://archive.ics.uci.edu/ml/datasets/Abalone) and place it in your local system for import into Python\n",
    "Ensure to encode the categorical variables and name the variables as per the dataset description\n",
    "\n",
    "Once the dataset has been properly allocated into the explanatory variable set(X) and the target label(y), esnure to normalize and standardize the data(as applicable)"
   ]
  },
  {
   "cell_type": "code",
   "execution_count": 2,
   "metadata": {},
   "outputs": [],
   "source": [
    "import pandas as pd\n",
    "from sklearn.preprocessing import LabelEncoder\n",
    "\n",
    "input_file = \"abalone.data\"\n",
    "colnames = [\"Sex\",\"Length\",\"Diameter\",\n",
    "\"Height\",\"Whole_weight\",\"Shucked_weight\",\"Viscera_weight\",\"Shell_weight\",\"Rings\"]\n",
    "\n",
    "Input_df = pd.read_csv(input_file, header = None, sep = \",\", encoding = \"latin1\", error_bad_lines = 0, names = colnames)\n",
    "le = LabelEncoder()\n",
    "Input_df.iloc[:,0]=le.fit_transform(Input_df.iloc[:,0])"
   ]
  },
  {
   "cell_type": "code",
   "execution_count": 3,
   "metadata": {},
   "outputs": [],
   "source": [
    "y=Input_df.iloc[:,-1]\n",
    "X=Input_df.iloc[:,0:8]"
   ]
  },
  {
   "cell_type": "code",
   "execution_count": 4,
   "metadata": {},
   "outputs": [],
   "source": [
    "from sklearn.model_selection import train_test_split\n",
    "X_train, X_test, y_train, y_test = train_test_split(X, y)"
   ]
  },
  {
   "cell_type": "code",
   "execution_count": 5,
   "metadata": {},
   "outputs": [
    {
     "data": {
      "text/plain": [
       "StandardScaler(copy=True, with_mean=True, with_std=True)"
      ]
     },
     "execution_count": 5,
     "metadata": {},
     "output_type": "execute_result"
    }
   ],
   "source": [
    "from sklearn.preprocessing import StandardScaler\n",
    "scaler = StandardScaler()\n",
    "# Fit only to the training data\n",
    "scaler.fit(X_train)"
   ]
  },
  {
   "cell_type": "code",
   "execution_count": 6,
   "metadata": {},
   "outputs": [],
   "source": [
    "# Now apply the transformations to the data:\n",
    "X_train = scaler.transform(X_train)\n",
    "X_test = scaler.transform(X_test)"
   ]
  },
  {
   "cell_type": "markdown",
   "metadata": {},
   "source": [
    "Use MLP Classifier to predict the labels of the data, in this case 22 target class labels. we set an initial number of layers same as number of input variables. We vary alhpa by factors of 10 or change the value to see effect on the confusion matrix statistics"
   ]
  },
  {
   "cell_type": "code",
   "execution_count": 15,
   "metadata": {},
   "outputs": [],
   "source": [
    "from sklearn.neural_network import MLPClassifier"
   ]
  },
  {
   "cell_type": "code",
   "execution_count": 16,
   "metadata": {},
   "outputs": [],
   "source": [
    "mlp = MLPClassifier(hidden_layer_sizes=(9, 9, 3,9,9),alpha=0.0001)"
   ]
  },
  {
   "cell_type": "code",
   "execution_count": 17,
   "metadata": {},
   "outputs": [
    {
     "data": {
      "text/plain": [
       "MLPClassifier(activation='relu', alpha=0.0001, batch_size='auto', beta_1=0.9,\n",
       "       beta_2=0.999, early_stopping=False, epsilon=1e-08,\n",
       "       hidden_layer_sizes=(9, 9, 3, 9, 9), learning_rate='constant',\n",
       "       learning_rate_init=0.001, max_iter=200, momentum=0.9,\n",
       "       nesterovs_momentum=True, power_t=0.5, random_state=None,\n",
       "       shuffle=True, solver='adam', tol=0.0001, validation_fraction=0.1,\n",
       "       verbose=False, warm_start=False)"
      ]
     },
     "execution_count": 17,
     "metadata": {},
     "output_type": "execute_result"
    }
   ],
   "source": [
    "mlp.fit(X_train,y_train)"
   ]
  },
  {
   "cell_type": "code",
   "execution_count": 18,
   "metadata": {},
   "outputs": [],
   "source": [
    "predictions = mlp.predict(X_test)"
   ]
  },
  {
   "cell_type": "code",
   "execution_count": 19,
   "metadata": {},
   "outputs": [
    {
     "name": "stdout",
     "output_type": "stream",
     "text": [
      "[[ 0  3  0  0  0  0  0  0  0  0  0  0  0  0  0  0  0  0  0  0  0  0]\n",
      " [ 0  3 10  1  0  0  0  0  0  0  0  0  0  0  0  0  0  0  0  0  0  0]\n",
      " [ 0  1 11  9  5  0  0  0  0  0  0  0  0  0  0  0  0  0  0  0  0  0]\n",
      " [ 0  0 12 20 32  8  3  1  0  0  1  0  0  0  2  0  0  0  0  0  0  0]\n",
      " [ 0  0  2 10 46 33 13  0  0  0  0  0  0  0  0  0  0  0  0  0  0  0]\n",
      " [ 0  0  0  1 17 58 32  9  3  0  1  0  0  0  0  0  0  0  0  0  0  0]\n",
      " [ 0  0  0  0  5 36 70 37 19  0  4  0  0  0  0  0  0  0  0  0  0  0]\n",
      " [ 0  0  0  0  4 13 48 48 34  4  6  0  0  0  0  0  0  0  0  0  0  0]\n",
      " [ 0  0  0  0  2  8 32 31 46  2  6  0  0  0  1  0  0  0  0  0  0  0]\n",
      " [ 0  0  0  0  1  6 11 18 21  2  4  0  0  0  3  0  0  0  0  0  0  0]\n",
      " [ 0  0  0  1  0  4  6  5 23  2  8  1  0  0  5  0  0  0  0  0  0  0]\n",
      " [ 0  0  0  0  0  2  4  4 13  1  3  0  0  0  6  0  0  0  0  0  0  0]\n",
      " [ 0  0  0  0  0  0  3  6  8  0  5  1  0  0  2  0  0  0  0  0  0  0]\n",
      " [ 0  0  0  0  0  0  1  5  4  2  2  1  0  0  5  0  0  0  0  0  0  0]\n",
      " [ 0  0  0  0  0  0  4  0  4  2  3  1  0  0  1  0  0  0  0  0  0  0]\n",
      " [ 0  0  0  0  0  0  1  1  2  4  0  0  0  0  2  0  0  0  0  0  0  0]\n",
      " [ 0  0  0  0  0  0  1  1  2  0  1  0  0  0  2  0  0  0  0  0  0  0]\n",
      " [ 0  0  0  0  0  0  0  0  0  1  0  1  0  0  2  0  0  0  0  0  0  0]\n",
      " [ 0  0  0  0  0  0  1  0  1  0  0  0  0  0  1  0  0  0  0  0  0  0]\n",
      " [ 0  0  0  0  0  0  0  0  0  0  0  0  0  0  1  0  0  0  0  0  0  0]\n",
      " [ 0  0  0  0  0  0  0  0  0  0  1  0  0  0  1  0  0  0  0  0  0  0]\n",
      " [ 0  0  0  0  0  0  0  0  0  1  0  0  0  0  0  0  0  0  0  0  0  0]]\n"
     ]
    }
   ],
   "source": [
    "from sklearn.metrics import classification_report,confusion_matrix\n",
    "conf = confusion_matrix(y_test,predictions)\n",
    "print(conf)"
   ]
  },
  {
   "cell_type": "code",
   "execution_count": 20,
   "metadata": {},
   "outputs": [
    {
     "name": "stdout",
     "output_type": "stream",
     "text": [
      "             precision    recall  f1-score   support\n",
      "\n",
      "          3       0.00      0.00      0.00         3\n",
      "          4       0.43      0.21      0.29        14\n",
      "          5       0.31      0.42      0.36        26\n",
      "          6       0.48      0.25      0.33        79\n",
      "          7       0.41      0.44      0.43       104\n",
      "          8       0.35      0.48      0.40       121\n",
      "          9       0.30      0.41      0.35       171\n",
      "         10       0.29      0.31      0.30       157\n",
      "         11       0.26      0.36      0.30       128\n",
      "         12       0.10      0.03      0.05        66\n",
      "         13       0.18      0.15      0.16        55\n",
      "         14       0.00      0.00      0.00        33\n",
      "         15       0.00      0.00      0.00        25\n",
      "         16       0.00      0.00      0.00        20\n",
      "         17       0.03      0.07      0.04        15\n",
      "         18       0.00      0.00      0.00        10\n",
      "         19       0.00      0.00      0.00         7\n",
      "         20       0.00      0.00      0.00         4\n",
      "         21       0.00      0.00      0.00         3\n",
      "         22       0.00      0.00      0.00         1\n",
      "         23       0.00      0.00      0.00         2\n",
      "         26       0.00      0.00      0.00         1\n",
      "\n",
      "avg / total       0.27      0.30      0.28      1045\n",
      "\n"
     ]
    },
    {
     "name": "stderr",
     "output_type": "stream",
     "text": [
      "C:\\Users\\DELL\\Anaconda3\\lib\\site-packages\\sklearn\\metrics\\classification.py:1135: UndefinedMetricWarning: Precision and F-score are ill-defined and being set to 0.0 in labels with no predicted samples.\n",
      "  'precision', 'predicted', average, warn_for)\n"
     ]
    }
   ],
   "source": [
    "print(classification_report(y_test,predictions))"
   ]
  },
  {
   "cell_type": "code",
   "execution_count": 22,
   "metadata": {},
   "outputs": [
    {
     "data": {
      "image/png": "[encoded data removed]",
      "text/plain": [
       "<Figure size 432x288 with 1 Axes>"
      ]
     },
     "metadata": {},
     "output_type": "display_data"
    }
   ],
   "source": [
    "import matplotlib.pyplot as plt\n",
    "\n",
    "plt.imshow(conf, cmap='binary', interpolation='None')\n",
    "plt.show()"
   ]
  },
  {
   "cell_type": "code",
   "execution_count": 115,
   "metadata": {},
   "outputs": [
    {
     "data": {
      "text/plain": [
       "4"
      ]
     },
     "execution_count": 115,
     "metadata": {},
     "output_type": "execute_result"
    }
   ],
   "source": [
    "len(mlp.coefs_)"
   ]
  },
  {
   "cell_type": "code",
   "execution_count": 116,
   "metadata": {},
   "outputs": [
    {
     "data": {
      "text/plain": [
       "8"
      ]
     },
     "execution_count": 116,
     "metadata": {},
     "output_type": "execute_result"
    }
   ],
   "source": [
    "len(mlp.coefs_[0])"
   ]
  },
  {
   "cell_type": "code",
   "execution_count": 117,
   "metadata": {},
   "outputs": [
    {
     "data": {
      "text/plain": [
       "9"
      ]
     },
     "execution_count": 117,
     "metadata": {},
     "output_type": "execute_result"
    }
   ],
   "source": [
    "len(mlp.intercepts_[0])"
   ]
  }
 ],
 "metadata": {
  "kernelspec": {
   "display_name": "Python 3",
   "language": "python",
   "name": "python3"
  },
  "language_info": {
   "codemirror_mode": {
    "name": "ipython",
    "version": 3
   },
   "file_extension": ".py",
   "mimetype": "text/x-python",
   "name": "python",
   "nbconvert_exporter": "python",
   "pygments_lexer": "ipython3",
   "version": "3.6.5"
  }
 },
 "nbformat": 4,
 "nbformat_minor": 2
}
